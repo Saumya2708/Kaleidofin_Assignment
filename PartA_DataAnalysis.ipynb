{
  "nbformat": 4,
  "nbformat_minor": 0,
  "metadata": {
    "colab": {
      "name": "Untitled12.ipynb",
      "provenance": []
    },
    "kernelspec": {
      "name": "python3",
      "display_name": "Python 3"
    }
  },
  "cells": [
    {
      "cell_type": "markdown",
      "metadata": {
        "id": "Eam9xnNcmS4f"
      },
      "source": [
        "**IMPORTING LIBRARIES**"
      ]
    },
    {
      "cell_type": "code",
      "metadata": {
        "id": "jeKIUKv3mZZn"
      },
      "source": [
        "import numpy as np\r\n",
        "import pandas as pd"
      ],
      "execution_count": 32,
      "outputs": []
    },
    {
      "cell_type": "markdown",
      "metadata": {
        "id": "nRw1Xbzrmdpd"
      },
      "source": [
        "**CALCULATE TOTAL RETURN**"
      ]
    },
    {
      "cell_type": "code",
      "metadata": {
        "id": "kBuhwG3KmJ3E"
      },
      "source": [
        "datafile = pd.read_csv(\"Exercise Data.csv\")\r\n",
        "bidReturn = np.array(datafile['Net amount recd by Bid winner'])\r\n",
        "monthlyReturn = np.array(datafile['Amount returned to everyone in the group'])\r\n",
        "for i in monthlyReturn:\r\n",
        "  bidReturn += i\r\n",
        "totalReturn = bidReturn"
      ],
      "execution_count": 33,
      "outputs": []
    },
    {
      "cell_type": "code",
      "metadata": {
        "id": "B_VO-DQonq5y"
      },
      "source": [
        "def PercentageReturn(totalReturn):\r\n",
        "  temp = totalReturn * (100 / 50000)\r\n",
        "  return temp"
      ],
      "execution_count": 34,
      "outputs": []
    },
    {
      "cell_type": "code",
      "metadata": {
        "id": "DJChDPQGVOd_"
      },
      "source": [
        "def AnnualReturn(totaReturn):\r\n",
        "  temp = totalReturn * (12/25)\r\n",
        "  return temp"
      ],
      "execution_count": 35,
      "outputs": []
    },
    {
      "cell_type": "code",
      "metadata": {
        "id": "i-8HBxTplqxi"
      },
      "source": [
        "def show_data(size):\r\n",
        "  print(datafile.head(size))"
      ],
      "execution_count": 36,
      "outputs": []
    },
    {
      "cell_type": "code",
      "metadata": {
        "colab": {
          "base_uri": "https://localhost:8080/"
        },
        "id": "2eTKuKXPlxko",
        "outputId": "cf0bff5f-f681-47b2-e514-de15e7f10e17"
      },
      "source": [
        "datafile['Total Return'] = totalReturn\r\n",
        "datafile['Annualized Return'] = AnnualReturn(totalReturn)\r\n",
        "datafile['Return %'] = PercentageReturn(totalReturn)\r\n",
        "print('Annualized  Return of the person who bids in the last month is:',list(datafile['Annualized Return'])[-1])\r\n",
        "print('Annualized Return of the person who bids in the first month is:',list(datafile['Annualized Return'])[0])\r\n",
        "print()\r\n",
        "show_data(25)\r\n",
        "datafile.to_csv('output.csv')"
      ],
      "execution_count": 37,
      "outputs": [
        {
          "output_type": "stream",
          "text": [
            "Annualized  Return of the person who bids in the last month is: 25776.0\n",
            "Annualized Return of the person who bids in the first month is: 20976.0\n",
            "\n",
            "    Month  Contribution  ...  Annualized Return  Return %\n",
            "0       1          2000  ...            20976.0      87.4\n",
            "1       2          2000  ...            21936.0      91.4\n",
            "2       3          2000  ...            23376.0      97.4\n",
            "3       4          2000  ...            24816.0     103.4\n",
            "4       5          2000  ...            20976.0      87.4\n",
            "5       6          2000  ...            21936.0      91.4\n",
            "6       7          2000  ...            22416.0      93.4\n",
            "7       8          2000  ...            22896.0      95.4\n",
            "8       9          2000  ...            20976.0      87.4\n",
            "9      10          2000  ...            21936.0      91.4\n",
            "10     11          2000  ...            23376.0      97.4\n",
            "11     12          2000  ...            24816.0     103.4\n",
            "12     13          2000  ...            20976.0      87.4\n",
            "13     14          2000  ...            21936.0      91.4\n",
            "14     15          2000  ...            22416.0      93.4\n",
            "15     16          2000  ...            22416.0      93.4\n",
            "16     17          2000  ...            21456.0      89.4\n",
            "17     18          2000  ...            21936.0      91.4\n",
            "18     19          2000  ...            23376.0      97.4\n",
            "19     20          2000  ...            23376.0      97.4\n",
            "20     21          2000  ...            22896.0      95.4\n",
            "21     22          2000  ...            23856.0      99.4\n",
            "22     23          2000  ...            24336.0     101.4\n",
            "23     24          2000  ...            24816.0     103.4\n",
            "24     25          2000  ...            25776.0     107.4\n",
            "\n",
            "[25 rows x 9 columns]\n"
          ],
          "name": "stdout"
        }
      ]
    }
  ]
}